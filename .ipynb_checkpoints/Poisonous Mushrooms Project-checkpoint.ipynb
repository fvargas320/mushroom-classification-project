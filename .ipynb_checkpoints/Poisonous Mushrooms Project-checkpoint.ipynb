{
 "cells": [
  {
   "cell_type": "code",
   "execution_count": 1,
   "metadata": {},
   "outputs": [],
   "source": [
    "import pandas as pd\n",
    "import numpy as np\n",
    "import seaborn as sns\n",
    "import matplotlib.pyplot as plt\n",
    "%matplotlib inline"
   ]
  },
  {
   "cell_type": "code",
   "execution_count": 2,
   "metadata": {},
   "outputs": [],
   "source": [
    "mushrooms_df = pd.read_csv(r\"C:\\Users\\Fernando\\Desktop\\mushrooms\\dataset_mushrooms.csv\")\n",
    "testing_df = pd.read_csv(r\"C:\\Users\\Fernando\\Desktop\\mushrooms\\submission_mushrooms.csv\")\n",
    "column_def = pd.read_csv(r\"C:\\Users\\Fernando\\Desktop\\mushrooms\\columns_definitions.csv\")"
   ]
  },
  {
   "cell_type": "code",
   "execution_count": 3,
   "metadata": {},
   "outputs": [
    {
     "data": {
      "text/plain": [
       "array(['class', 'cap-shape', 'cap-surface', 'cap-color', 'bruises',\n",
       "       'odor', 'gill-attachment', 'gill-spacing', 'gill-size',\n",
       "       'gill-color', 'stalk-shape', 'stalk-root',\n",
       "       'stalk-surface-above-ring', 'stalk-surface-below-ring',\n",
       "       'stalk-color-above-ring', 'stalk-color-below-ring', 'veil-type',\n",
       "       'veil-color', 'ring-number', 'ring-type', 'spore-print-color',\n",
       "       'population', 'habitat'], dtype=object)"
      ]
     },
     "execution_count": 3,
     "metadata": {},
     "output_type": "execute_result"
    }
   ],
   "source": [
    "column_def.column_name.unique() # Features for the mushrooms in the dataframe"
   ]
  },
  {
   "cell_type": "markdown",
   "metadata": {},
   "source": [
    "**Data Cleaning**"
   ]
  },
  {
   "cell_type": "code",
   "execution_count": 4,
   "metadata": {},
   "outputs": [
    {
     "name": "stdout",
     "output_type": "stream",
     "text": [
      "Unnamed: 0                  203\n",
      "cap-shape                     5\n",
      "cap-surface                   4\n",
      "cap-color                     9\n",
      "bruises                       2\n",
      "odor                          8\n",
      "gill-attachment               2\n",
      "gill-spacing                  2\n",
      "gill-size                     2\n",
      "gill-color                   12\n",
      "stalk-shape                   2\n",
      "stalk-root                    5\n",
      "stalk-surface-above-ring      4\n",
      "stalk-surface-below-ring      4\n",
      "stalk-color-above-ring        8\n",
      "stalk-color-below-ring        8\n",
      "veil-type                     1\n",
      "veil-color                    4\n",
      "ring-number                   2\n",
      "ring-type                     4\n",
      "spore-print-color             8\n",
      "population                    6\n",
      "habitat                       7\n",
      "dtype: int64\n"
     ]
    }
   ],
   "source": [
    "print(testing_df.nunique())"
   ]
  },
  {
   "cell_type": "code",
   "execution_count": 6,
   "metadata": {},
   "outputs": [],
   "source": [
    "#Veil Type will be dropped since it only has 1 value option.\n",
    "testing_df.drop([\"veil-type\"],axis=1,inplace=True)\n",
    "mushrooms_df.drop([\"veil-type\"],axis=1,inplace=True)"
   ]
  },
  {
   "cell_type": "code",
   "execution_count": 7,
   "metadata": {},
   "outputs": [
    {
     "name": "stdout",
     "output_type": "stream",
     "text": [
      "b    89\n",
      "?    61\n",
      "e    28\n",
      "c    21\n",
      "r     4\n",
      "Name: stalk-root, dtype: int64\n"
     ]
    }
   ],
   "source": [
    "#Stalk Root contains missing values \"?\" that will be accounted for\n",
    "print(testing_df['stalk-root'].value_counts())"
   ]
  },
  {
   "cell_type": "code",
   "execution_count": 11,
   "metadata": {},
   "outputs": [
    {
     "data": {
      "text/html": [
       "<div>\n",
       "<style scoped>\n",
       "    .dataframe tbody tr th:only-of-type {\n",
       "        vertical-align: middle;\n",
       "    }\n",
       "\n",
       "    .dataframe tbody tr th {\n",
       "        vertical-align: top;\n",
       "    }\n",
       "\n",
       "    .dataframe thead th {\n",
       "        text-align: right;\n",
       "    }\n",
       "</style>\n",
       "<table border=\"1\" class=\"dataframe\">\n",
       "  <thead>\n",
       "    <tr style=\"text-align: right;\">\n",
       "      <th></th>\n",
       "      <th>cap-shape</th>\n",
       "      <th>cap-surface</th>\n",
       "      <th>cap-color</th>\n",
       "      <th>bruises</th>\n",
       "      <th>odor</th>\n",
       "      <th>gill-attachment</th>\n",
       "      <th>gill-spacing</th>\n",
       "      <th>gill-size</th>\n",
       "      <th>gill-color</th>\n",
       "      <th>stalk-shape</th>\n",
       "      <th>...</th>\n",
       "      <th>stalk-surface-above-ring</th>\n",
       "      <th>stalk-surface-below-ring</th>\n",
       "      <th>stalk-color-above-ring</th>\n",
       "      <th>stalk-color-below-ring</th>\n",
       "      <th>veil-color</th>\n",
       "      <th>ring-number</th>\n",
       "      <th>ring-type</th>\n",
       "      <th>spore-print-color</th>\n",
       "      <th>population</th>\n",
       "      <th>habitat</th>\n",
       "    </tr>\n",
       "  </thead>\n",
       "  <tbody>\n",
       "    <tr>\n",
       "      <td>0</td>\n",
       "      <td>x</td>\n",
       "      <td>y</td>\n",
       "      <td>y</td>\n",
       "      <td>f</td>\n",
       "      <td>f</td>\n",
       "      <td>f</td>\n",
       "      <td>c</td>\n",
       "      <td>b</td>\n",
       "      <td>h</td>\n",
       "      <td>e</td>\n",
       "      <td>...</td>\n",
       "      <td>k</td>\n",
       "      <td>k</td>\n",
       "      <td>n</td>\n",
       "      <td>b</td>\n",
       "      <td>w</td>\n",
       "      <td>o</td>\n",
       "      <td>l</td>\n",
       "      <td>h</td>\n",
       "      <td>v</td>\n",
       "      <td>d</td>\n",
       "    </tr>\n",
       "    <tr>\n",
       "      <td>1</td>\n",
       "      <td>b</td>\n",
       "      <td>s</td>\n",
       "      <td>y</td>\n",
       "      <td>t</td>\n",
       "      <td>l</td>\n",
       "      <td>f</td>\n",
       "      <td>c</td>\n",
       "      <td>b</td>\n",
       "      <td>k</td>\n",
       "      <td>e</td>\n",
       "      <td>...</td>\n",
       "      <td>s</td>\n",
       "      <td>s</td>\n",
       "      <td>w</td>\n",
       "      <td>w</td>\n",
       "      <td>w</td>\n",
       "      <td>o</td>\n",
       "      <td>p</td>\n",
       "      <td>n</td>\n",
       "      <td>n</td>\n",
       "      <td>g</td>\n",
       "    </tr>\n",
       "    <tr>\n",
       "      <td>2</td>\n",
       "      <td>x</td>\n",
       "      <td>f</td>\n",
       "      <td>n</td>\n",
       "      <td>t</td>\n",
       "      <td>n</td>\n",
       "      <td>f</td>\n",
       "      <td>c</td>\n",
       "      <td>b</td>\n",
       "      <td>u</td>\n",
       "      <td>t</td>\n",
       "      <td>...</td>\n",
       "      <td>s</td>\n",
       "      <td>s</td>\n",
       "      <td>p</td>\n",
       "      <td>w</td>\n",
       "      <td>w</td>\n",
       "      <td>o</td>\n",
       "      <td>p</td>\n",
       "      <td>n</td>\n",
       "      <td>y</td>\n",
       "      <td>d</td>\n",
       "    </tr>\n",
       "    <tr>\n",
       "      <td>3</td>\n",
       "      <td>k</td>\n",
       "      <td>s</td>\n",
       "      <td>n</td>\n",
       "      <td>f</td>\n",
       "      <td>y</td>\n",
       "      <td>f</td>\n",
       "      <td>c</td>\n",
       "      <td>n</td>\n",
       "      <td>b</td>\n",
       "      <td>t</td>\n",
       "      <td>...</td>\n",
       "      <td>s</td>\n",
       "      <td>s</td>\n",
       "      <td>w</td>\n",
       "      <td>p</td>\n",
       "      <td>w</td>\n",
       "      <td>o</td>\n",
       "      <td>e</td>\n",
       "      <td>w</td>\n",
       "      <td>v</td>\n",
       "      <td>p</td>\n",
       "    </tr>\n",
       "    <tr>\n",
       "      <td>4</td>\n",
       "      <td>f</td>\n",
       "      <td>s</td>\n",
       "      <td>e</td>\n",
       "      <td>f</td>\n",
       "      <td>f</td>\n",
       "      <td>f</td>\n",
       "      <td>c</td>\n",
       "      <td>n</td>\n",
       "      <td>b</td>\n",
       "      <td>t</td>\n",
       "      <td>...</td>\n",
       "      <td>k</td>\n",
       "      <td>k</td>\n",
       "      <td>w</td>\n",
       "      <td>p</td>\n",
       "      <td>w</td>\n",
       "      <td>o</td>\n",
       "      <td>e</td>\n",
       "      <td>w</td>\n",
       "      <td>v</td>\n",
       "      <td>d</td>\n",
       "    </tr>\n",
       "    <tr>\n",
       "      <td>...</td>\n",
       "      <td>...</td>\n",
       "      <td>...</td>\n",
       "      <td>...</td>\n",
       "      <td>...</td>\n",
       "      <td>...</td>\n",
       "      <td>...</td>\n",
       "      <td>...</td>\n",
       "      <td>...</td>\n",
       "      <td>...</td>\n",
       "      <td>...</td>\n",
       "      <td>...</td>\n",
       "      <td>...</td>\n",
       "      <td>...</td>\n",
       "      <td>...</td>\n",
       "      <td>...</td>\n",
       "      <td>...</td>\n",
       "      <td>...</td>\n",
       "      <td>...</td>\n",
       "      <td>...</td>\n",
       "      <td>...</td>\n",
       "      <td>...</td>\n",
       "    </tr>\n",
       "    <tr>\n",
       "      <td>198</td>\n",
       "      <td>f</td>\n",
       "      <td>s</td>\n",
       "      <td>n</td>\n",
       "      <td>f</td>\n",
       "      <td>n</td>\n",
       "      <td>a</td>\n",
       "      <td>c</td>\n",
       "      <td>b</td>\n",
       "      <td>y</td>\n",
       "      <td>e</td>\n",
       "      <td>...</td>\n",
       "      <td>s</td>\n",
       "      <td>s</td>\n",
       "      <td>o</td>\n",
       "      <td>o</td>\n",
       "      <td>n</td>\n",
       "      <td>o</td>\n",
       "      <td>p</td>\n",
       "      <td>b</td>\n",
       "      <td>v</td>\n",
       "      <td>l</td>\n",
       "    </tr>\n",
       "    <tr>\n",
       "      <td>199</td>\n",
       "      <td>f</td>\n",
       "      <td>y</td>\n",
       "      <td>g</td>\n",
       "      <td>f</td>\n",
       "      <td>f</td>\n",
       "      <td>f</td>\n",
       "      <td>c</td>\n",
       "      <td>b</td>\n",
       "      <td>p</td>\n",
       "      <td>e</td>\n",
       "      <td>...</td>\n",
       "      <td>k</td>\n",
       "      <td>k</td>\n",
       "      <td>p</td>\n",
       "      <td>b</td>\n",
       "      <td>w</td>\n",
       "      <td>o</td>\n",
       "      <td>l</td>\n",
       "      <td>h</td>\n",
       "      <td>y</td>\n",
       "      <td>p</td>\n",
       "    </tr>\n",
       "    <tr>\n",
       "      <td>200</td>\n",
       "      <td>x</td>\n",
       "      <td>f</td>\n",
       "      <td>y</td>\n",
       "      <td>f</td>\n",
       "      <td>f</td>\n",
       "      <td>f</td>\n",
       "      <td>c</td>\n",
       "      <td>b</td>\n",
       "      <td>h</td>\n",
       "      <td>e</td>\n",
       "      <td>...</td>\n",
       "      <td>k</td>\n",
       "      <td>k</td>\n",
       "      <td>b</td>\n",
       "      <td>p</td>\n",
       "      <td>w</td>\n",
       "      <td>o</td>\n",
       "      <td>l</td>\n",
       "      <td>h</td>\n",
       "      <td>v</td>\n",
       "      <td>p</td>\n",
       "    </tr>\n",
       "    <tr>\n",
       "      <td>201</td>\n",
       "      <td>x</td>\n",
       "      <td>f</td>\n",
       "      <td>n</td>\n",
       "      <td>t</td>\n",
       "      <td>n</td>\n",
       "      <td>f</td>\n",
       "      <td>c</td>\n",
       "      <td>b</td>\n",
       "      <td>p</td>\n",
       "      <td>t</td>\n",
       "      <td>...</td>\n",
       "      <td>s</td>\n",
       "      <td>s</td>\n",
       "      <td>g</td>\n",
       "      <td>w</td>\n",
       "      <td>w</td>\n",
       "      <td>o</td>\n",
       "      <td>p</td>\n",
       "      <td>k</td>\n",
       "      <td>y</td>\n",
       "      <td>d</td>\n",
       "    </tr>\n",
       "    <tr>\n",
       "      <td>202</td>\n",
       "      <td>f</td>\n",
       "      <td>s</td>\n",
       "      <td>w</td>\n",
       "      <td>f</td>\n",
       "      <td>n</td>\n",
       "      <td>f</td>\n",
       "      <td>w</td>\n",
       "      <td>b</td>\n",
       "      <td>h</td>\n",
       "      <td>t</td>\n",
       "      <td>...</td>\n",
       "      <td>s</td>\n",
       "      <td>s</td>\n",
       "      <td>w</td>\n",
       "      <td>w</td>\n",
       "      <td>w</td>\n",
       "      <td>o</td>\n",
       "      <td>e</td>\n",
       "      <td>n</td>\n",
       "      <td>a</td>\n",
       "      <td>g</td>\n",
       "    </tr>\n",
       "  </tbody>\n",
       "</table>\n",
       "<p>203 rows × 21 columns</p>\n",
       "</div>"
      ],
      "text/plain": [
       "    cap-shape cap-surface cap-color bruises odor gill-attachment gill-spacing  \\\n",
       "0           x           y         y       f    f               f            c   \n",
       "1           b           s         y       t    l               f            c   \n",
       "2           x           f         n       t    n               f            c   \n",
       "3           k           s         n       f    y               f            c   \n",
       "4           f           s         e       f    f               f            c   \n",
       "..        ...         ...       ...     ...  ...             ...          ...   \n",
       "198         f           s         n       f    n               a            c   \n",
       "199         f           y         g       f    f               f            c   \n",
       "200         x           f         y       f    f               f            c   \n",
       "201         x           f         n       t    n               f            c   \n",
       "202         f           s         w       f    n               f            w   \n",
       "\n",
       "    gill-size gill-color stalk-shape  ... stalk-surface-above-ring  \\\n",
       "0           b          h           e  ...                        k   \n",
       "1           b          k           e  ...                        s   \n",
       "2           b          u           t  ...                        s   \n",
       "3           n          b           t  ...                        s   \n",
       "4           n          b           t  ...                        k   \n",
       "..        ...        ...         ...  ...                      ...   \n",
       "198         b          y           e  ...                        s   \n",
       "199         b          p           e  ...                        k   \n",
       "200         b          h           e  ...                        k   \n",
       "201         b          p           t  ...                        s   \n",
       "202         b          h           t  ...                        s   \n",
       "\n",
       "    stalk-surface-below-ring stalk-color-above-ring stalk-color-below-ring  \\\n",
       "0                          k                      n                      b   \n",
       "1                          s                      w                      w   \n",
       "2                          s                      p                      w   \n",
       "3                          s                      w                      p   \n",
       "4                          k                      w                      p   \n",
       "..                       ...                    ...                    ...   \n",
       "198                        s                      o                      o   \n",
       "199                        k                      p                      b   \n",
       "200                        k                      b                      p   \n",
       "201                        s                      g                      w   \n",
       "202                        s                      w                      w   \n",
       "\n",
       "    veil-color ring-number ring-type spore-print-color population habitat  \n",
       "0            w           o         l                 h          v       d  \n",
       "1            w           o         p                 n          n       g  \n",
       "2            w           o         p                 n          y       d  \n",
       "3            w           o         e                 w          v       p  \n",
       "4            w           o         e                 w          v       d  \n",
       "..         ...         ...       ...               ...        ...     ...  \n",
       "198          n           o         p                 b          v       l  \n",
       "199          w           o         l                 h          y       p  \n",
       "200          w           o         l                 h          v       p  \n",
       "201          w           o         p                 k          y       d  \n",
       "202          w           o         e                 n          a       g  \n",
       "\n",
       "[203 rows x 21 columns]"
      ]
     },
     "execution_count": 11,
     "metadata": {},
     "output_type": "execute_result"
    }
   ],
   "source": [
    "del testing_df['Unnamed: 0'] #reomving auto generated index\n",
    "testing_df"
   ]
  },
  {
   "cell_type": "code",
   "execution_count": null,
   "metadata": {},
   "outputs": [],
   "source": [
    "#testing_df.drop([\"veil-color\"],axis=1,inplace=True)\n",
    "#mushrooms_df.drop([\"veil-color\"],axis=1,inplace=True)"
   ]
  },
  {
   "cell_type": "code",
   "execution_count": null,
   "metadata": {},
   "outputs": [],
   "source": [
    "#Column stalk root can be dropped, has low significance\n",
    "mushrooms_df.drop([\"stalk-root\"],axis=1,inplace=True) #dropping ? column\n",
    "testing_df.drop([\"stalk-root\"],axis=1,inplace=True) #dropping ? column"
   ]
  },
  {
   "cell_type": "code",
   "execution_count": null,
   "metadata": {},
   "outputs": [],
   "source": [
    "#column name \"class\" changed to \"class_outcome\" to avoid errors\n",
    "mushrooms_df = mushrooms_df.rename(columns = {'class':'class_outcome'}) #renaming column name to avoid errors\n",
    "sns.countplot('class_outcome', data = mushrooms_df) #Imbalanced class, have to reconsider performance metrics"
   ]
  },
  {
   "cell_type": "code",
   "execution_count": null,
   "metadata": {},
   "outputs": [],
   "source": [
    "mushrooms_df.columns"
   ]
  },
  {
   "cell_type": "code",
   "execution_count": null,
   "metadata": {},
   "outputs": [],
   "source": [
    "y = mushrooms_df[\"class_outcome\"].values   # dataframe labels.. edible or poisonous\n",
    "mushrooms_df.drop([\"class_outcome\"],axis=1,inplace=True)  # dropping the labels from the data\n",
    "\n",
    "x = mushrooms_df  "
   ]
  },
  {
   "cell_type": "code",
   "execution_count": null,
   "metadata": {},
   "outputs": [],
   "source": [
    "merged_data = pd.concat([x, testing_df]) #Must merge data to allow get_dummies to create the same variables on x and testing data"
   ]
  },
  {
   "cell_type": "code",
   "execution_count": null,
   "metadata": {},
   "outputs": [],
   "source": [
    "merged_data"
   ]
  },
  {
   "cell_type": "code",
   "execution_count": null,
   "metadata": {},
   "outputs": [],
   "source": [
    "merged_data = pd.get_dummies(merged_data) #get dummies to create varibles for each feature\n",
    "print(merged_data.shape)"
   ]
  },
  {
   "cell_type": "code",
   "execution_count": null,
   "metadata": {},
   "outputs": [],
   "source": [
    "x = merged_data[0:7921]\n",
    "testing_data = merged_data[7921:]\n",
    "testing_data"
   ]
  },
  {
   "cell_type": "code",
   "execution_count": null,
   "metadata": {},
   "outputs": [],
   "source": [
    "y #1 = poisonous 2 = edible"
   ]
  },
  {
   "cell_type": "code",
   "execution_count": null,
   "metadata": {},
   "outputs": [],
   "source": [
    "#Loop will append values depending on \"p\" or \"e\" values\n",
    "numerical_values = []\n",
    "\n",
    "p_value = 0\n",
    "e_value = 0\n",
    "\n",
    "for value in y:\n",
    "    if value == 'p':\n",
    "        numerical_values.append(1)\n",
    "        p_value += 1\n",
    "    else:\n",
    "        numerical_values.append(0)\n",
    "        e_value +=1\n",
    "        \n",
    "print(\"There are \" + str(p_value) + \" poisonous mushrooms in the original dataset.\")\n",
    "print(\"There are \" + str(e_value) + \" edible mushrooms in the original dataset.\")"
   ]
  },
  {
   "cell_type": "code",
   "execution_count": null,
   "metadata": {},
   "outputs": [],
   "source": [
    "y = numerical_values"
   ]
  },
  {
   "cell_type": "code",
   "execution_count": null,
   "metadata": {},
   "outputs": [],
   "source": [
    "from sklearn.model_selection import train_test_split"
   ]
  },
  {
   "cell_type": "markdown",
   "metadata": {},
   "source": [
    "**Logistic Regression**"
   ]
  },
  {
   "cell_type": "code",
   "execution_count": null,
   "metadata": {},
   "outputs": [],
   "source": [
    "x_train, x_test, y_train, y_test_lr = train_test_split(x, y, test_size=0.2, random_state=42)"
   ]
  },
  {
   "cell_type": "code",
   "execution_count": null,
   "metadata": {},
   "outputs": [],
   "source": [
    "from sklearn.linear_model import LogisticRegression\n",
    "log_reg = LogisticRegression()\n",
    "log_reg.fit(x_train,y_train)\n",
    "y_pred_log = log_reg.predict(x_test)"
   ]
  },
  {
   "cell_type": "code",
   "execution_count": null,
   "metadata": {},
   "outputs": [],
   "source": [
    "print(\"Test accuracy: \", log_reg.score(x_test,y_test_lr))"
   ]
  },
  {
   "cell_type": "code",
   "execution_count": null,
   "metadata": {},
   "outputs": [],
   "source": [
    "from sklearn.metrics import confusion_matrix\n",
    "cm = confusion_matrix(y_test_lr,y_pred_log)\n",
    "print(cm)"
   ]
  },
  {
   "cell_type": "markdown",
   "metadata": {},
   "source": [
    "**Applying Logistic Regression Model to Submission Data**"
   ]
  },
  {
   "cell_type": "code",
   "execution_count": null,
   "metadata": {},
   "outputs": [],
   "source": [
    "log_output = log_reg.predict(testing_data)\n",
    "print(log_output)"
   ]
  },
  {
   "cell_type": "code",
   "execution_count": null,
   "metadata": {},
   "outputs": [],
   "source": [
    "e_total = []\n",
    "p_total = []\n",
    "\n",
    "for value in log_output:\n",
    "    if value == 1:\n",
    "        p_total.append(\"p\")\n",
    "    else:\n",
    "        e_total.append(\"e\")\n",
    "print(\"Logistic Regression Predicts: \" + str(len(p_total)) + \" poisonous mushrooms in the submission dataset.\")\n",
    "print(\"Logistic Regression Predicts: \" + str(len(e_total)) + \" edible mushrooms in the submission dataset.\")"
   ]
  },
  {
   "cell_type": "markdown",
   "metadata": {},
   "source": [
    "**K Nearest Neighbors**"
   ]
  },
  {
   "cell_type": "code",
   "execution_count": null,
   "metadata": {},
   "outputs": [],
   "source": [
    "x_train, x_test, y_train, y_test_knn = train_test_split(x, y, test_size=0.2, random_state=4)"
   ]
  },
  {
   "cell_type": "code",
   "execution_count": null,
   "metadata": {},
   "outputs": [],
   "source": [
    "from sklearn.neighbors import KNeighborsClassifier\n",
    "from sklearn.metrics import f1_score\n",
    "\n",
    "knn = KNeighborsClassifier(n_neighbors=5)\n",
    "knn.fit(x_train, y_train)\n",
    "y_pred_knn = knn.predict(x_test)"
   ]
  },
  {
   "cell_type": "code",
   "execution_count": null,
   "metadata": {},
   "outputs": [],
   "source": [
    "from sklearn.metrics import accuracy_score\n",
    "\n",
    "accuracy = accuracy_score(y_test_knn, y_pred_knn)*100\n",
    "print('Accuracy of our model is equal ' + str(round(accuracy, 2)) + ' %.')\n",
    "    \n",
    "print('Accuracy:', accuracy_score(y_test_knn, y_pred_knn))\n",
    "#print('F1-score:', f1_score(y_test, y_pred))"
   ]
  },
  {
   "cell_type": "code",
   "execution_count": null,
   "metadata": {},
   "outputs": [],
   "source": [
    "#cm = confusion_matrix(y_test, y_pred)\n",
    "from sklearn.metrics import confusion_matrix\n",
    "\n",
    "cm = confusion_matrix(y_test_knn,y_pred_knn)\n",
    "cm"
   ]
  },
  {
   "cell_type": "markdown",
   "metadata": {},
   "source": [
    "**Applying KNN Model to Submission Data**"
   ]
  },
  {
   "cell_type": "code",
   "execution_count": null,
   "metadata": {},
   "outputs": [],
   "source": [
    "knn_output = knn.predict(testing_data)\n",
    "print(knn_output) #KNN Model predicts 85/203 mushrooms are poisonous"
   ]
  },
  {
   "cell_type": "code",
   "execution_count": null,
   "metadata": {},
   "outputs": [],
   "source": [
    "e_total_knn = []\n",
    "p_total_knn = []\n",
    "\n",
    "for value in knn_output:\n",
    "    if value == 1:\n",
    "        p_total_knn.append(\"p\")\n",
    "    else:\n",
    "        e_total_knn.append(\"e\")\n",
    "print(\"There are \" + str(len(p_total_knn)) + \" poisonous mushrooms.\")\n",
    "print(\"There are \" + str(len(e_total_knn)) + \" edible mushrooms.\")"
   ]
  },
  {
   "cell_type": "markdown",
   "metadata": {},
   "source": [
    "**Support Vector Machine**"
   ]
  },
  {
   "cell_type": "code",
   "execution_count": null,
   "metadata": {},
   "outputs": [],
   "source": [
    "x_train, x_test, y_train, y_test_svm = train_test_split(x, y, test_size=0.2)#, random_state=42)"
   ]
  },
  {
   "cell_type": "code",
   "execution_count": null,
   "metadata": {},
   "outputs": [],
   "source": [
    "from sklearn.model_selection import GridSearchCV\n",
    "from sklearn.svm import SVC\n",
    "svm = SVC()"
   ]
  },
  {
   "cell_type": "markdown",
   "metadata": {},
   "source": [
    "**GridSearchCV Parameters**"
   ]
  },
  {
   "cell_type": "code",
   "execution_count": null,
   "metadata": {},
   "outputs": [],
   "source": [
    "#parameters = [{'kernel': ['rbf'], 'C': [1, 10, 100], 'gamma': [1e-3, 1e-4, 1e-5]},\n",
    "              #{'kernel': ['poly'], 'C': [1, 10, 100], 'degree': (2, 3, 4)}\n",
    "             #]\n",
    "#clf = GridSearchCV(svm, parameters, cv=5, scoring=\"accuracy\")\n",
    "#clf.fit(x_train, y_train)\n",
    "#print(clf.best_params_)"
   ]
  },
  {
   "cell_type": "code",
   "execution_count": null,
   "metadata": {},
   "outputs": [],
   "source": [
    "svm_model=SVC(kernel='poly', C=100, degree=2)\n",
    "svm_model.fit(x_train,y_train)\n",
    "svm_model.score(x_test,y_test_svm)"
   ]
  },
  {
   "cell_type": "code",
   "execution_count": null,
   "metadata": {},
   "outputs": [],
   "source": [
    "y_pred_svm = svm_model.predict(x_test)"
   ]
  },
  {
   "cell_type": "code",
   "execution_count": null,
   "metadata": {},
   "outputs": [],
   "source": [
    "from sklearn.metrics import confusion_matrix\n",
    "\n",
    "confusion_m = confusion_matrix(y_test_svm,y_pred_svm)\n",
    "confusion_m"
   ]
  },
  {
   "cell_type": "markdown",
   "metadata": {},
   "source": [
    "**Applying SVM to Submission Data**"
   ]
  },
  {
   "cell_type": "code",
   "execution_count": null,
   "metadata": {},
   "outputs": [],
   "source": [
    "svm_output = svm_model.predict(testing_data)\n",
    "print(svm_output)"
   ]
  },
  {
   "cell_type": "code",
   "execution_count": null,
   "metadata": {},
   "outputs": [],
   "source": [
    "e_total_svm = []\n",
    "p_total_svm = []\n",
    "\n",
    "for value in svm_output:\n",
    "    if value == 1:\n",
    "        p_total_svm.append(\"p\")\n",
    "    else:\n",
    "        e_total_svm.append(\"e\")\n",
    "\n",
    "\n",
    "print(\"There are \" + str(len(p_total_svm)) + \" poisonous mushrooms.\")\n",
    "print(\"There are \" + str(len(e_total_svm)) + \" edible mushrooms.\")"
   ]
  },
  {
   "cell_type": "markdown",
   "metadata": {},
   "source": [
    "**Decision Tree**"
   ]
  },
  {
   "cell_type": "code",
   "execution_count": null,
   "metadata": {},
   "outputs": [],
   "source": [
    "x_train, x_test, y_train, y_test_dt = train_test_split(x, y, test_size=0.2, random_state=42)"
   ]
  },
  {
   "cell_type": "code",
   "execution_count": null,
   "metadata": {},
   "outputs": [],
   "source": [
    "from sklearn import tree"
   ]
  },
  {
   "cell_type": "code",
   "execution_count": null,
   "metadata": {},
   "outputs": [],
   "source": [
    "dec_tree = tree.DecisionTreeClassifier()\n",
    "dec_tree.fit(x_train,y_train)\n",
    "dec_tree.score(x_test,y_test_dt)\n",
    "y_pred_dt = dec_tree.predict(x_test)"
   ]
  },
  {
   "cell_type": "code",
   "execution_count": null,
   "metadata": {},
   "outputs": [],
   "source": [
    "confusion_dt = confusion_matrix(y_test_dt,y_pred_dt)\n",
    "confusion_dt"
   ]
  },
  {
   "cell_type": "markdown",
   "metadata": {},
   "source": [
    "**Applying Decision Tree Model to Submission Data**"
   ]
  },
  {
   "cell_type": "code",
   "execution_count": null,
   "metadata": {},
   "outputs": [],
   "source": [
    "dt_output = dec_tree.predict(testing_data)\n",
    "print(dt_output)"
   ]
  },
  {
   "cell_type": "code",
   "execution_count": null,
   "metadata": {},
   "outputs": [],
   "source": [
    "e_total_dt = []\n",
    "p_total_dt = []\n",
    "\n",
    "for value in dt_output:\n",
    "    if value == 1:\n",
    "        p_total_dt.append(\"p\")\n",
    "    else:\n",
    "        e_total_dt.append(\"e\")\n",
    "\n",
    "\n",
    "print(\"There are \" + str(len(p_total_dt)) + \" poisonous mushrooms.\")\n",
    "print(\"There are \" + str(len(e_total_dt)) + \" edible mushrooms.\")"
   ]
  },
  {
   "cell_type": "markdown",
   "metadata": {},
   "source": [
    "**ROC Comparing Models**"
   ]
  },
  {
   "cell_type": "code",
   "execution_count": null,
   "metadata": {},
   "outputs": [],
   "source": [
    "from sklearn.metrics import roc_curve, auc\n",
    "\n",
    "\n",
    "log_fpr, log_tpr, threshold = roc_curve(y_test_lr, y_pred_log)\n",
    "auc_log = auc(log_fpr, log_tpr)\n",
    "\n",
    "knn_fpr, knn_tpr, threshold = roc_curve(y_test_knn, y_pred_knn)\n",
    "auc_knn = auc(knn_fpr, knn_tpr)\n",
    "\n",
    "svm_fpr, svm_tpr, threshold = roc_curve(y_test_svm, y_pred_svm)\n",
    "auc_svm = auc(svm_fpr, svm_tpr)\n",
    "\n",
    "dt_fpr, dt_tpr, threshold = roc_curve(y_test_dt, y_pred_dt)\n",
    "auc_dt = auc(dt_fpr, dt_tpr)\n",
    "\n",
    "plt.figure(figsize=(5, 5), dpi=100)\n",
    "plt.plot(log_fpr, log_tpr, linestyle='-', label='LOG (auc = %0.3f)' % auc_log)\n",
    "plt.plot(svm_fpr, svm_tpr, linestyle='-', label='SVM (auc = %0.3f)' % auc_svm)\n",
    "plt.plot(knn_fpr, knn_tpr, marker='.', label='KNN (auc = %0.3f)' % auc_knn)\n",
    "plt.plot(dt_fpr, dt_tpr, marker='.', label='Decision Tree (auc = %0.3f)' % auc_dt)\n",
    "\n",
    "plt.plot([0,1], [0,1], linestyle = '--')\n",
    "plt.xlabel('False Positive Rate')\n",
    "plt.ylabel('True Positive Rate')\n",
    "\n",
    "plt.legend()\n",
    "\n",
    "plt.show()\n"
   ]
  },
  {
   "cell_type": "code",
   "execution_count": null,
   "metadata": {},
   "outputs": [],
   "source": [
    "P = np.array(testing_data)\n",
    "\n",
    "y_pred_final =log_reg.predict(P)\n",
    "h = pd.DataFrame(y_pred_final)\n",
    "h2 = h.rename({0:'Y_predicted'},axis=1)\n",
    "print(\"Shape:\",h2.shape)\n",
    "print(\"Unique Values:\", np.unique(h2))\n",
    "h2.to_csv(\"Group4_Mushrooms_Log-Reg_Y-predicted.csv\", index=True)\n"
   ]
  },
  {
   "cell_type": "code",
   "execution_count": null,
   "metadata": {},
   "outputs": [],
   "source": [
    "log_output == dt_output"
   ]
  },
  {
   "cell_type": "code",
   "execution_count": null,
   "metadata": {},
   "outputs": [],
   "source": [
    "dt_output == svm_output"
   ]
  }
 ],
 "metadata": {
  "kernelspec": {
   "display_name": "Python 3",
   "language": "python",
   "name": "python3"
  },
  "language_info": {
   "codemirror_mode": {
    "name": "ipython",
    "version": 3
   },
   "file_extension": ".py",
   "mimetype": "text/x-python",
   "name": "python",
   "nbconvert_exporter": "python",
   "pygments_lexer": "ipython3",
   "version": "3.7.4"
  }
 },
 "nbformat": 4,
 "nbformat_minor": 4
}
